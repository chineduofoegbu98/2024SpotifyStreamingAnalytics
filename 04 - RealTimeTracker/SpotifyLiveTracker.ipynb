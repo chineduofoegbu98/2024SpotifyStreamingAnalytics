{
 "cells": [
  {
   "cell_type": "code",
   "execution_count": 1,
   "id": "14500072-e796-4db5-8b77-ed0d66494965",
   "metadata": {},
   "outputs": [
    {
     "name": "stdout",
     "output_type": "stream",
     "text": [
      "Packages imported successfully\n"
     ]
    }
   ],
   "source": [
    "import pandas as pd\n",
    "import requests\n",
    "import json\n",
    "from bs4 import BeautifulSoup\n",
    "import matplotlib.pyplot as plt\n",
    "import seaborn as sns\n",
    "from datetime import datetime\n",
    "import time\n",
    "import os\n",
    "\n",
    "# Spotify API login - Replace with your actual credentials\n",
    "# Get them from: https://developer.spotify.com/dashboard/\n",
    "\n",
    "CLIENT_ID = 'ADD_YOUR_SPOTIFY_CLIENT_ID_HERE'\n",
    "CLIENT_SECRET = 'ADD_YOUR_SPOTIFY_CLIENT_SECRET_HERE'\n",
    "\n",
    "print(\"Packages imported successfully\")"
   ]
  },
  {
   "cell_type": "code",
   "execution_count": 2,
   "id": "3664fd04-4b74-4e7d-9522-12798ad0663a",
   "metadata": {},
   "outputs": [
    {
     "name": "stdout",
     "output_type": "stream",
     "text": [
      "Spotify API connected now\n"
     ]
    }
   ],
   "source": [
    "def get_spotify_token():\n",
    "    auth_url = 'https://accounts.spotify.com/api/token'\n",
    "    auth_data = {\n",
    "        'grant_type': 'client_credentials',\n",
    "        'client_id': CLIENT_ID,\n",
    "        'client_secret': CLIENT_SECRET,\n",
    "    }\n",
    "    \n",
    "    auth_response = requests.post(auth_url, data=auth_data)\n",
    "    access_token = auth_response.json()['access_token']\n",
    "    \n",
    "    headers = {\"Authorization\": f\"Bearer {access_token}\"}\n",
    "    return headers\n",
    "\n",
    "headers = get_spotify_token()\n",
    "print(\"Spotify API connected now\")"
   ]
  },
  {
   "cell_type": "code",
   "execution_count": 3,
   "id": "b0fae8fd-4c2b-4ff6-937a-b4b2638e8b97",
   "metadata": {},
   "outputs": [
    {
     "name": "stdout",
     "output_type": "stream",
     "text": [
      "Loaded 20 tracks from CSV\n"
     ]
    }
   ],
   "source": [
    "# Load previously cleaned data from View created in earlier SQL Query\n",
    "df = pd.read_csv('top20_spotify_data.csv')\n",
    "df['timestamp'] = pd.to_datetime('now')\n",
    "\n",
    "def get_current_popularity(track_name, artist_name, headers):\n",
    "    search_url = \"https://api.spotify.com/v1/search\"\n",
    "    params = {\n",
    "        'q': f'track:\"{track_name}\" artist:\"{artist_name}\"',\n",
    "        'type': 'track',\n",
    "        'limit': 1\n",
    "    }\n",
    "    \n",
    "    try:\n",
    "        response = requests.get(search_url, headers=headers, params=params)\n",
    "        data = response.json()\n",
    "        \n",
    "        if data['tracks']['items']:\n",
    "            track = data['tracks']['items'][0]\n",
    "            return {\n",
    "                'current_popularity': track['popularity'],\n",
    "                'duration_ms': track['duration_ms'],\n",
    "                'explicit': track['explicit']\n",
    "            }\n",
    "    except:\n",
    "        pass\n",
    "    \n",
    "    return {'current_popularity': 0, 'duration_ms': 0, 'explicit': False}\n",
    "\n",
    "print(f\"Loaded {len(df)} tracks from CSV\")"
   ]
  },
  {
   "cell_type": "code",
   "execution_count": 4,
   "id": "2563da7c-b68f-4736-be03-ca244d3de62c",
   "metadata": {},
   "outputs": [
    {
     "name": "stdout",
     "output_type": "stream",
     "text": [
      "Implementing fallback data source - industry best practice\n",
      "Chart data collection complete: 8 entries\n",
      "\n",
      "Chart Data Preview:\n",
      "1. Ed Sheeran - Perfect (Source: Fallback Chart Data)\n",
      "2. Taylor Swift - Anti-Hero (Source: Fallback Chart Data)\n",
      "3. Harry Styles - As It Was (Source: Fallback Chart Data)\n",
      "4. The Weeknd - Blinding Lights (Source: Fallback Chart Data)\n",
      "5. Billie Eilish - What Was I Made For (Source: Fallback Chart Data)\n"
     ]
    }
   ],
   "source": [
    "def scrape_chart_positions():\n",
    "    \"\"\"Professional web scraping with robust error handling and fallback data\"\"\"\n",
    "    chart_data = []\n",
    "    \n",
    "    try:\n",
    "        # Scrape UK Official Charts\n",
    "        url = \"https://www.officialcharts.com/charts/singles-chart/\"\n",
    "        headers = {'User-Agent': 'Mozilla/5.0 (Windows NT 10.0; Win64; x64) AppleWebKit/537.36'}\n",
    "        \n",
    "        response = requests.get(url, headers=headers, timeout=5)\n",
    "        soup = BeautifulSoup(response.content, 'html.parser')\n",
    "        \n",
    "        # Top 10 chart entries using common HTML patterns\n",
    "        chart_entries = soup.find_all('div', class_='title')[:10]  \n",
    "        \n",
    "        for i, entry in enumerate(chart_entries):\n",
    "            text = entry.get_text(strip=True)\n",
    "            if len(text) > 3:  \n",
    "                chart_data.append({\n",
    "                    'chart_position': i + 1,\n",
    "                    'chart_entry': text[:50],\n",
    "                    'chart_source': 'UK Official Charts',\n",
    "                    'scrape_date': datetime.now().strftime('%Y-%m-%d')\n",
    "                })\n",
    "                \n",
    "    except Exception as e:\n",
    "        print(\"Web scraping blocked by target site (common in production)\")\n",
    "    \n",
    "    # Fallback option: Use sample data when scraping fails\n",
    "    # Keeps analysis pipeline fully functional\n",
    "    if len(chart_data) < 3:\n",
    "        print(\"Implementing fallback data source - industry best practice\")\n",
    "        sample_chart = [\n",
    "            'Ed Sheeran - Perfect',\n",
    "            'Taylor Swift - Anti-Hero', \n",
    "            'Harry Styles - As It Was',\n",
    "            'The Weeknd - Blinding Lights',\n",
    "            'Billie Eilish - What Was I Made For',\n",
    "            'Dua Lipa - Levitating',\n",
    "            'Post Malone - Circles',\n",
    "            'Olivia Rodrigo - Vampire'\n",
    "        ]\n",
    "        \n",
    "        chart_data = []  # Reset to ensure clean sample data\n",
    "        for i, entry in enumerate(sample_chart):\n",
    "            chart_data.append({\n",
    "                'chart_position': i + 1,\n",
    "                'chart_entry': entry,\n",
    "                'chart_source': 'Fallback Chart Data',\n",
    "                'scrape_date': datetime.now().strftime('%Y-%m-%d')\n",
    "            })\n",
    "    \n",
    "    return chart_data\n",
    "\n",
    "chart_data = scrape_chart_positions()\n",
    "print(f\"Chart data collection complete: {len(chart_data)} entries\")\n",
    "\n",
    "# Show sample of collected data\n",
    "print(\"\\nChart Data Preview:\")\n",
    "for i, entry in enumerate(chart_data[:5]):\n",
    "    print(f\"{i+1}. {entry['chart_entry']} (Source: {entry['chart_source']})\")"
   ]
  },
  {
   "cell_type": "code",
   "execution_count": 5,
   "id": "bda4d204-a4c2-42b2-b36d-945b2327b45b",
   "metadata": {},
   "outputs": [
    {
     "name": "stdout",
     "output_type": "stream",
     "text": [
      "Collecting Spotify data...\n",
      "Data collection completed\n",
      "Average current popularity: 83.7\n"
     ]
    }
   ],
   "source": [
    "# Function for collection of all data\n",
    "def collect_spotify_data():\n",
    "    global df\n",
    "    \n",
    "    print(\"Collecting Spotify data...\")\n",
    "    \n",
    "    # Adds existing popularity data to each track\n",
    "    for index, row in df.iterrows():\n",
    "        current_data = get_current_popularity(row['Track'], row['Artist'], headers)\n",
    "        df.at[index, 'current_popularity'] = current_data['current_popularity']\n",
    "        df.at[index, 'duration_minutes'] = round(current_data['duration_ms'] / 60000, 2)\n",
    "        df.at[index, 'explicit'] = current_data['explicit']\n",
    "        \n",
    "        # Adds popularity change calculation\n",
    "        original_pop = row['SpotifyPopularity']\n",
    "        current_pop = current_data['current_popularity']\n",
    "        df.at[index, 'popularity_change'] = current_pop - original_pop\n",
    "        \n",
    "        time.sleep(0.2)  # To not overload API or block my access\n",
    "    \n",
    "    df['timestamp'] = pd.to_datetime('now')\n",
    "    \n",
    "    # Saves to CSV file\n",
    "    filename = 'spotify_tracker_data.csv'\n",
    "    if not os.path.isfile(filename):\n",
    "        df.to_csv(filename, index=False)\n",
    "    else:\n",
    "        df.to_csv(filename, mode='a', header=False, index=False)\n",
    "    \n",
    "    return df\n",
    "\n",
    "# Start the data collection\n",
    "updated_df = collect_spotify_data()\n",
    "print(\"Data collection completed\")\n",
    "print(f\"Average current popularity: {updated_df['current_popularity'].mean():.1f}\")"
   ]
  },
  {
   "cell_type": "code",
   "execution_count": 6,
   "id": "aa51ba0a-8ed3-4bfd-9800-1003eee7b750",
   "metadata": {},
   "outputs": [
    {
     "name": "stdout",
     "output_type": "stream",
     "text": [
      "Collecting Spotify data...\n",
      "Data collection completed\n",
      "Average current popularity: 83.7\n"
     ]
    }
   ],
   "source": [
    "# Function for collection of all data\n",
    "def collect_spotify_data():\n",
    "    global df\n",
    "    \n",
    "    print(\"Collecting Spotify data...\")\n",
    "    \n",
    "    # Adds existing popularity data to each track\n",
    "    for index, row in df.iterrows():\n",
    "        current_data = get_current_popularity(row['Track'], row['Artist'], headers)\n",
    "        df.at[index, 'current_popularity'] = current_data['current_popularity']\n",
    "        df.at[index, 'duration_minutes'] = round(current_data['duration_ms'] / 60000, 2)\n",
    "        df.at[index, 'explicit'] = current_data['explicit']\n",
    "        \n",
    "        # Adds popularity change calculation\n",
    "        original_pop = row['SpotifyPopularity']\n",
    "        current_pop = current_data['current_popularity']\n",
    "        df.at[index, 'popularity_change'] = current_pop - original_pop\n",
    "        \n",
    "        time.sleep(0.2)  # To not overload API or block my access\n",
    "    \n",
    "    df['timestamp'] = pd.to_datetime('now')\n",
    "    \n",
    "    # Saves to CSV file\n",
    "    filename = 'spotify_tracker_data.csv'\n",
    "    if not os.path.isfile(filename):\n",
    "        df.to_csv(filename, index=False)\n",
    "    else:\n",
    "        df.to_csv(filename, mode='a', header=False, index=False)\n",
    "    \n",
    "    return df\n",
    "\n",
    "# Start the data collection\n",
    "updated_df = collect_spotify_data()\n",
    "print(\"Data collection completed\")\n",
    "print(f\"Average current popularity: {updated_df['current_popularity'].mean():.1f}\")"
   ]
  },
  {
   "cell_type": "code",
   "execution_count": 7,
   "id": "76140c73-11f3-4c74-96d8-bbf7e627dbc1",
   "metadata": {},
   "outputs": [
    {
     "name": "stdout",
     "output_type": "stream",
     "text": [
      "SPOTIFY TRACK ANALYSIS\n",
      "========================================\n",
      "\n",
      "Top 5 Current Popular Tracks:\n",
      "              Track        Artist  current_popularity\n",
      "0   Blinding Lights    The Weeknd               89.00\n",
      "1      Shape of You    Ed Sheeran               89.00\n",
      "5           Starboy    The Weeknd               89.00\n",
      "4         As It Was  Harry Styles               88.00\n",
      "11          Perfect    Ed Sheeran               88.00\n",
      "\n",
      "Biggest Popularity Increases:\n",
      "              Track            Artist  popularity_change\n",
      "1      Shape of You        Ed Sheeran               9.00\n",
      "11          Perfect        Ed Sheeran               7.00\n",
      "14           Closer  The Chainsmokers               7.00\n",
      "0   Blinding Lights        The Weeknd               6.00\n",
      "9          Believer   Imagine Dragons               6.00\n",
      "\n",
      "Summary Statistics:\n",
      "       SpotifyPopularity  current_popularity  popularity_change\n",
      "count              20.00               20.00              20.00\n",
      "mean               80.50               83.65               3.15\n",
      "std                 3.66                6.34               5.55\n",
      "min                71.00               68.00             -17.00\n",
      "25%                78.75               81.00               2.75\n",
      "50%                81.50               87.00               4.50\n",
      "75%                82.00               88.00               6.00\n",
      "max                87.00               89.00               9.00\n",
      "\n",
      "Artist Performance Analysis:\n",
      "               current_popularity  popularity_change\n",
      "Artist                                              \n",
      "Drake                       87.00               5.00\n",
      "Dua Lipa                    82.00               4.00\n",
      "Ed Sheeran                  88.50               8.00\n",
      "Glass Animals               87.00               5.00\n",
      "Harry Styles                86.00               1.50\n"
     ]
    }
   ],
   "source": [
    "# Sets display options\n",
    "pd.set_option('display.float_format', lambda x: '%.2f' % x)\n",
    "\n",
    "# Basic analysis\n",
    "print(\"SPOTIFY TRACK ANALYSIS\")\n",
    "print(\"=\" * 40)\n",
    "\n",
    "# Top performers by current popularity\n",
    "top_current = updated_df.nlargest(5, 'current_popularity')[['Track', 'Artist', 'current_popularity']]\n",
    "print(\"\\nTop 5 Current Popular Tracks:\")\n",
    "print(top_current)\n",
    "\n",
    "# Biggest popularity change\n",
    "biggest_changes = updated_df.nlargest(5, 'popularity_change')[['Track', 'Artist', 'popularity_change']]\n",
    "print(\"\\nBiggest Popularity Increases:\")\n",
    "print(biggest_changes)\n",
    "\n",
    "# Summary stats\n",
    "summary_stats = updated_df[['SpotifyPopularity', 'current_popularity', 'popularity_change']].describe()\n",
    "print(\"\\nSummary Statistics:\")\n",
    "print(summary_stats)\n",
    "\n",
    "# Group analysis\n",
    "artist_analysis = updated_df.groupby('Artist')[['current_popularity', 'popularity_change']].mean()\n",
    "print(\"\\nArtist Performance Analysis:\")\n",
    "print(artist_analysis.head())"
   ]
  },
  {
   "cell_type": "code",
   "execution_count": 9,
   "id": "87333755-a7cd-4ef8-b0fd-2b27fff89012",
   "metadata": {},
   "outputs": [
    {
     "data": {
      "image/png": "[encoded data removed]",
      "text/plain": [
       "<Figure size 800x600 with 1 Axes>"
      ]
     },
     "metadata": {},
     "output_type": "display_data"
    },
    {
     "data": {
      "image/png": "[encoded data removed]",
      "text/plain": [
       "<Figure size 1000x600 with 1 Axes>"
      ]
     },
     "metadata": {},
     "output_type": "display_data"
    }
   ],
   "source": [
    "# Visualization 1: Original vs Current Popularity\n",
    "plt.figure(figsize=(8, 6))\n",
    "plt.scatter(updated_df['SpotifyPopularity'], updated_df['current_popularity'], alpha=0.7)\n",
    "plt.xlabel('Original Popularity')\n",
    "plt.ylabel('Current Popularity')\n",
    "plt.title('Original vs Current Popularity')\n",
    "plt.plot([0, 100], [0, 100], 'r--', alpha=0.5)  # Reference line\n",
    "plt.show()\n",
    "\n",
    "# Visualization 2: Top 10 Tracks by Current Popularity\n",
    "plt.figure(figsize=(10, 6))\n",
    "sns.barplot(\n",
    "    data=updated_df.nlargest(10, 'current_popularity'),\n",
    "    x='current_popularity',\n",
    "    y='Track'\n",
    ")\n",
    "plt.title('Top 10 Tracks by Current Popularity')\n",
    "plt.xlabel('Current Spotify Popularity Score')\n",
    "plt.ylabel('Track')\n",
    "plt.tight_layout()\n",
    "plt.show()"
   ]
  },
  {
   "cell_type": "code",
   "execution_count": 10,
   "id": "3d33c2c1-d6a6-42a6-aafe-b2dee3b4b479",
   "metadata": {},
   "outputs": [
    {
     "name": "stdout",
     "output_type": "stream",
     "text": [
      "FINAL TRACKING REPORT\n",
      "==================================================\n",
      "Analysis Date: 2025-08-25 13:17:46\n",
      "Total Tracks Analyzed: 20\n",
      "Average Original Popularity: 80.5\n",
      "Average Current Popularity: 83.7\n",
      "Overall Popularity Trend: +3.1\n",
      "\n",
      "Top Gainer: Shape of You\n",
      "Popularity Change: +9.0\n",
      "\n",
      "Biggest Decline: Sweater Weather\n",
      "Popularity Change: -17.0\n",
      "\n",
      "Results exported to: spotify_analysis_results_20250825_131746.csv\n",
      "\n",
      "Chart Data Collected:\n",
      "   chart_position                          chart_entry         chart_source  \\\n",
      "0               1                 Ed Sheeran - Perfect  Fallback Chart Data   \n",
      "1               2             Taylor Swift - Anti-Hero  Fallback Chart Data   \n",
      "2               3             Harry Styles - As It Was  Fallback Chart Data   \n",
      "3               4         The Weeknd - Blinding Lights  Fallback Chart Data   \n",
      "4               5  Billie Eilish - What Was I Made For  Fallback Chart Data   \n",
      "\n",
      "  scrape_date  \n",
      "0  2025-08-25  \n",
      "1  2025-08-25  \n",
      "2  2025-08-25  \n",
      "3  2025-08-25  \n",
      "4  2025-08-25  \n"
     ]
    }
   ],
   "source": [
    "# final summary report\n",
    "print(\"FINAL TRACKING REPORT\")\n",
    "print(\"=\" * 50)\n",
    "print(f\"Analysis Date: {datetime.now().strftime('%Y-%m-%d %H:%M:%S')}\")\n",
    "print(f\"Total Tracks Analyzed: {len(updated_df)}\")\n",
    "print(f\"Average Original Popularity: {updated_df['SpotifyPopularity'].mean():.1f}\")\n",
    "print(f\"Average Current Popularity: {updated_df['current_popularity'].mean():.1f}\")\n",
    "print(f\"Overall Popularity Trend: {updated_df['popularity_change'].mean():+.1f}\")\n",
    "\n",
    "# Top gainers vs losers\n",
    "print(f\"\\nTop Gainer: {updated_df.loc[updated_df['popularity_change'].idxmax(), 'Track']}\")\n",
    "print(f\"Popularity Change: +{updated_df['popularity_change'].max():.1f}\")\n",
    "\n",
    "if updated_df['popularity_change'].min() < 0:\n",
    "    print(f\"\\nBiggest Decline: {updated_df.loc[updated_df['popularity_change'].idxmin(), 'Track']}\")\n",
    "    print(f\"Popularity Change: {updated_df['popularity_change'].min():.1f}\")\n",
    "\n",
    "# Exports new, enhanced dataset\n",
    "export_filename = f\"spotify_analysis_results_{datetime.now().strftime('%Y%m%d_%H%M%S')}.csv\"\n",
    "updated_df.to_csv(export_filename, index=False)\n",
    "print(f\"\\nResults exported to: {export_filename}\")\n",
    "\n",
    "print(f\"\\nChart Data Collected:\")\n",
    "chart_df = pd.DataFrame(chart_data)\n",
    "print(chart_df.head())"
   ]
  },
  {
   "cell_type": "code",
   "execution_count": null,
   "id": "63217aab-0e71-48e0-a70e-b926bf5a743b",
   "metadata": {},
   "outputs": [],
   "source": []
  }
 ],
 "metadata": {
  "kernelspec": {
   "display_name": "Python 3 (ipykernel)",
   "language": "python",
   "name": "python3"
  },
  "language_info": {
   "codemirror_mode": {
    "name": "ipython",
    "version": 3
   },
   "file_extension": ".py",
   "mimetype": "text/x-python",
   "name": "python",
   "nbconvert_exporter": "python",
   "pygments_lexer": "ipython3",
   "version": "3.13.6"
  }
 },
 "nbformat": 4,
 "nbformat_minor": 5
}
